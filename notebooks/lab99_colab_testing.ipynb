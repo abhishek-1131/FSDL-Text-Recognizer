{
  "cells": [
    {
      "cell_type": "markdown",
      "metadata": {
        "colab_type": "text",
        "id": "view-in-github"
      },
      "source": [
        "<a href=\"https://colab.research.google.com/github/the-full-stack/fsdl-text-recognizer-2022/blob/update%2Fcolab-3.10/notebooks/lab99_colab_testing.ipynb\" target=\"_parent\"><img src=\"https://colab.research.google.com/assets/colab-badge.svg\" alt=\"Open In Colab\"/></a>"
      ]
    },
    {
      "cell_type": "markdown",
      "metadata": {
        "id": "ZUPRHaeetRnT"
      },
      "source": [
        "# Testing the Colab Environment"
      ]
    },
    {
      "cell_type": "markdown",
      "metadata": {
        "id": "ehjngP03Cuc-"
      },
      "source": [
        "Run this notebook to test that the Colab environment is working:\n",
        "Runtime > Run all in the toolbar.\n",
        "\n",
        "Note that the final cell requires you to provide a secret interactively."
      ]
    },
    {
      "cell_type": "code",
      "execution_count": null,
      "metadata": {
        "id": "sVx7C7H0PIZC"
      },
      "outputs": [],
      "source": [
        "import sys\n",
        "\n",
        "in_colab = \"google.colab\" in sys.modules\n",
        "repo = \"fsdl-text-recognizer-2022\"\n",
        "\n",
        "assert in_colab\n",
        "\n",
        "!git clone https://github.com/full-stack-deep-learning/{repo}\n",
        "%cd /content/{repo}"
      ]
    },
    {
      "cell_type": "markdown",
      "metadata": {
        "id": "IqGM4dZrTMLP"
      },
      "source": [
        "## Core Package Version Checking\n",
        "\n",
        "The Colab environment has no guarantees of stability and no release announcements,\n",
        "so every once in a while, I run this set of cells to confirm all core package versions are as expected.\n",
        "\n",
        "For example, this notebook detected a change to the PyTorch and cuDNN libraries on July 12, 2022,\n",
        "[14 days after PyTorch 1.12 was released](https://github.com/pytorch/pytorch/releases/tag/v1.12.0)."
      ]
    },
    {
      "cell_type": "code",
      "execution_count": null,
      "metadata": {
        "id": "lhpKEh63kCoV"
      },
      "outputs": [],
      "source": [
        "python_version = !python --version\n",
        "assert 'Python 3.10.' in python_version[0], python_version[0]\n",
        "python_version[0]"
      ]
    },
    {
      "cell_type": "code",
      "execution_count": null,
      "metadata": {
        "id": "zGlaQ68TkBom"
      },
      "outputs": [],
      "source": [
        "pip_version = !pip --version\n",
        "assert 'pip 23.' in pip_version[0], pip_version[0]\n",
        "pip_version[0]"
      ]
    },
    {
      "cell_type": "code",
      "execution_count": null,
      "metadata": {
        "id": "WWV8wJkMq5nr"
      },
      "outputs": [],
      "source": [
        "!pip list | grep setuptools"
      ]
    },
    {
      "cell_type": "code",
      "execution_count": null,
      "metadata": {
        "id": "Og-XIFGkTgaO"
      },
      "outputs": [],
      "source": [
        "!pip list | grep torch"
      ]
    },
    {
      "cell_type": "code",
      "execution_count": null,
      "metadata": {
        "id": "YDGJ1zEzTQmd"
      },
      "outputs": [],
      "source": [
        "import torch\n",
        "\n",
        "assert \"2.0.\" in torch.__version__, torch.__version__\n",
        "assert \"cu118\" in torch.__version__, torch.__version__\n",
        "torch.__version__"
      ]
    },
    {
      "cell_type": "code",
      "execution_count": null,
      "metadata": {
        "id": "BE9sUrxKTWk3"
      },
      "outputs": [],
      "source": [
        "assert torch.version.cuda == \"11.8\", torch.version.cuda\n",
        "torch.version.cuda"
      ]
    },
    {
      "cell_type": "code",
      "execution_count": null,
      "metadata": {
        "id": "j8hgBWiETZue"
      },
      "outputs": [],
      "source": [
        "cudnn_version = \".\".join(str(v) for v in torch._C._cudnn.getRuntimeVersion())\n",
        "assert \"8.7.\" in cudnn_version, cudnn_version\n",
        "cudnn_version"
      ]
    },
    {
      "cell_type": "code",
      "execution_count": null,
      "metadata": {
        "id": "dB-Vtd3LTdwQ"
      },
      "outputs": [],
      "source": [
        "import torchvision\n",
        "\n",
        "assert \"0.15.\" in torchvision.__version__, torchvision.__version__\n",
        "assert \"cu118\" in torchvision.__version__, torchvision.__version__\n",
        "torchvision.__version__"
      ]
    },
    {
      "cell_type": "code",
      "execution_count": null,
      "metadata": {
        "id": "7vu2m_orTj_l"
      },
      "outputs": [],
      "source": [
        "import PIL\n",
        "\n",
        "assert \"8.4.\" in PIL.__version__, PIL.__version__\n",
        "PIL.__version__"
      ]
    },
    {
      "cell_type": "code",
      "execution_count": null,
      "metadata": {
        "id": "hhD4k9J2bsvZ"
      },
      "outputs": [],
      "source": [
        "import jinja2\n",
        "\n",
        "assert \"3.1\" in jinja2.__version__, jinja2.__version__\n",
        "jinja2.__version__"
      ]
    },
    {
      "cell_type": "markdown",
      "metadata": {
        "id": "jkcMqcngoWxu"
      },
      "source": [
        "## Installation Checks\n",
        "\n",
        "We keep versions aligned in part so that there isn't a slow installation phase whenver the Colab runtime spins up.\n",
        "\n",
        "These cells install the requirements and times the installation.\n",
        "It should be no more than two minutes total."
      ]
    },
    {
      "cell_type": "code",
      "execution_count": null,
      "metadata": {
        "id": "R1vLGU2jbl6R"
      },
      "outputs": [],
      "source": [
        "%%writefile requirements/prod.in\n",
        "h5py\n",
        "importlib-metadata>=4.4\n",
        "numpy\n",
        "pyngrok\n",
        "requests\n",
        "smart_open[s3]\n",
        "tqdm\n",
        "# versioned for stability\n",
        "gantry==0.4.9\n",
        "gradio==3.0.21\n",
        "# versioned to match Google Colab up to minor\n",
        "Jinja2>=3.1,<3.2\n",
        "pillow>=8.4,<8.5\n",
        "torch>=2.0,<2.1\n",
        "torchvision>=0.15,<0.16\n",
        "# versioned to avoid breaking change in minor version update\n",
        "markupsafe<2.1"
      ]
    },
    {
      "cell_type": "code",
      "execution_count": null,
      "metadata": {
        "id": "zHQOXobgp57C"
      },
      "outputs": [],
      "source": [
        "from time import time as now\n",
        "\n",
        "\n",
        "start_prod_install = now()\n",
        "!pip install -r requirements/prod.in\n",
        "prod_install_duration = now() - start_prod_install"
      ]
    },
    {
      "cell_type": "code",
      "execution_count": null,
      "metadata": {
        "id": "hBVHjjR39-rW"
      },
      "outputs": [],
      "source": [
        "prod_install_duration"
      ]
    },
    {
      "cell_type": "code",
      "execution_count": null,
      "metadata": {
        "id": "AJ3pGIddcd_Z"
      },
      "outputs": [],
      "source": [
        "import seaborn as sns\n",
        "\n",
        "assert \"0.12\" in sns.__version__, sns.__version__\n",
        "\n",
        "sns.__version__"
      ]
    },
    {
      "cell_type": "code",
      "execution_count": null,
      "metadata": {
        "id": "dRsEN2yfcny0"
      },
      "outputs": [],
      "source": [
        "import tornado\n",
        "\n",
        "assert \"6.3\" in tornado.version, tornado.version\n",
        "\n",
        "tornado.version"
      ]
    },
    {
      "cell_type": "code",
      "execution_count": null,
      "metadata": {
        "id": "zZ2mshbfcal0"
      },
      "outputs": [],
      "source": [
        "%%writefile requirements/dev.in\n",
        "-c prod.txt\n",
        "boltons\n",
        "coverage[toml]\n",
        "defusedxml\n",
        "itermplot\n",
        "ipywidgets\n",
        "matplotlib\n",
        "notebook\n",
        "nltk\n",
        "pre-commit\n",
        "pytest\n",
        "pytest-cov\n",
        "scipy\n",
        "toml\n",
        "# versioned to give pip hints\n",
        "coverage[toml]==6.4\n",
        "pytest==7.1.1\n",
        "pytest-cov==3.0.0\n",
        "# versioned to match Google Colab\n",
        "seaborn>=0.12,<0.13\n",
        "tornado>=6.3,<6.4\n",
        "# versioned to improve stability\n",
        "pytorch-lightning==1.6.3\n",
        "torchmetrics<0.8\n",
        "wandb==0.12.17"
      ]
    },
    {
      "cell_type": "code",
      "execution_count": null,
      "metadata": {
        "id": "N00vOTsuoYpW"
      },
      "outputs": [],
      "source": [
        "start_dev_install = now()\n",
        "!sed 1d requirements/dev.in | grep -v \"#\" | xargs pip install\n",
        "dev_install_duration = now() - start_dev_install"
      ]
    },
    {
      "cell_type": "code",
      "execution_count": null,
      "metadata": {
        "id": "TUxLf4uy-FeH"
      },
      "outputs": [],
      "source": [
        "total_install_duration = prod_install_duration + dev_install_duration\n",
        "print(f\"{total_install_duration}\")\n",
        "\n",
        "maximum_allowed_time = 120  # seconds\n",
        "\n",
        "assert total_install_duration < maximum_allowed_time, f\"install duration was too long: {int(total_install_duration)}\""
      ]
    },
    {
      "cell_type": "code",
      "execution_count": null,
      "metadata": {
        "id": "pp71NkYjsVVU"
      },
      "outputs": [],
      "source": [
        "import pytorch_lightning as pl  # checking that we have our dev libraries"
      ]
    },
    {
      "cell_type": "markdown",
      "metadata": {
        "id": "F6xTVd01r6_K"
      },
      "source": [
        "Then we need to do Python path handling..."
      ]
    },
    {
      "cell_type": "code",
      "execution_count": null,
      "metadata": {
        "id": "9jDRDGowrwOQ"
      },
      "outputs": [],
      "source": [
        "pythonpath = !echo $PYTHONPATH\n",
        "if \".\" not in pythonpath[-1]:\n",
        "  pythonpath = [\".\"] + pythonpath\n",
        "  %env PYTHONPATH={\":\".join(pythonpath)}\n",
        "!echo $PYTHONPATH"
      ]
    },
    {
      "cell_type": "markdown",
      "metadata": {
        "id": "tODtkq26r-2H"
      },
      "source": [
        "...and turn on \"hot\" reloading of modules..."
      ]
    },
    {
      "cell_type": "code",
      "execution_count": null,
      "metadata": {
        "id": "R4Sbd7Ovr3rD"
      },
      "outputs": [],
      "source": [
        "%load_ext autoreload\n",
        "%autoreload 2"
      ]
    },
    {
      "cell_type": "markdown",
      "metadata": {
        "id": "PSd_oykgsHpM"
      },
      "source": [
        "...so that we can import our development libraries and edit them on the fly."
      ]
    },
    {
      "cell_type": "code",
      "execution_count": null,
      "metadata": {
        "id": "WztXuonQr_0x"
      },
      "outputs": [],
      "source": [
        "import text_recognizer\n",
        "import training"
      ]
    },
    {
      "cell_type": "markdown",
      "metadata": {
        "id": "72j_mPxDre8Z"
      },
      "source": [
        "## Run Tests"
      ]
    },
    {
      "cell_type": "markdown",
      "metadata": {
        "id": "4XJrLfSZs5iI"
      },
      "source": [
        "And then we run our tests to check that the code is working.\n",
        "\n",
        "The below tests should take about 10 minutes,\n",
        "depending on the GPU you receive from Colab.\n",
        "\n",
        "Note that the tests require a W&B API key so that we can download\n",
        "the current production model\n",
        "-- either set it interactively after running the cell below\n",
        "or set it as an environment variable,\n",
        "`$WANDB_API_KEY`."
      ]
    },
    {
      "cell_type": "code",
      "execution_count": null,
      "metadata": {
        "id": "pO5BT6I2rpCJ"
      },
      "outputs": [],
      "source": [
        "! wandb login\n",
        "\n",
        "out = !./tasks/unit_test.sh && echo \"success\" || echo \"failure\"\n",
        "\n",
        "if out[-1] == \"failure\":\n",
        "    raise RuntimeError(\"\\n\".join(out[:-1]))\n",
        "print(out[-1])"
      ]
    }
  ],
  "metadata": {
    "accelerator": "GPU",
    "colab": {
      "collapsed_sections": [
        "IqGM4dZrTMLP"
      ],
      "include_colab_link": true,
      "private_outputs": true,
      "provenance": []
    },
    "gpuClass": "standard",
    "kernelspec": {
      "display_name": "Python 3",
      "name": "python3"
    },
    "language_info": {
      "name": "python"
    }
  },
  "nbformat": 4,
  "nbformat_minor": 0
}
